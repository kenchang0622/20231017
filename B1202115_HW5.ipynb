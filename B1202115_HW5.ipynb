{
  "nbformat": 4,
  "nbformat_minor": 0,
  "metadata": {
    "colab": {
      "provenance": []
    },
    "kernelspec": {
      "name": "python3",
      "display_name": "Python 3"
    },
    "language_info": {
      "name": "python"
    }
  },
  "cells": [
    {
      "cell_type": "code",
      "execution_count": null,
      "metadata": {
        "colab": {
          "base_uri": "https://localhost:8080/"
        },
        "id": "1lZjUVGfduuW",
        "outputId": "38f5de44-310e-465d-812c-353ba73ca00f"
      },
      "outputs": [
        {
          "output_type": "stream",
          "name": "stdout",
          "text": [
            "        *\n",
            "       ***\n",
            "      *****\n",
            "     *******\n",
            "    *********\n",
            "   ***********\n",
            "  *************\n",
            " ***************\n",
            "*****************\n",
            "       ***       \n",
            "       ***       \n",
            "       ***       \n",
            "       ***       \n",
            "       ***       \n"
          ]
        }
      ],
      "source": [
        "a=9\n",
        "b=a*2+1\n",
        "for i in range(1,b,2):\n",
        "  move=round((b-i)/2)-1\n",
        "  print(f' '*move,end='')\n",
        "  print('*'*i)\n",
        "c='***'\n",
        "d=f'{c: ^17s}'\n",
        "print(d)\n",
        "print(d)\n",
        "print(d)\n",
        "print(d)\n",
        "print(d)"
      ]
    },
    {
      "cell_type": "code",
      "source": [
        "import random\n",
        "answer=random.sample(range(1,10),4)\n",
        "print(answer)\n",
        "a=b=c=0\n",
        "num=0\n",
        "guess=list(input('輸入四個數字:'))\n",
        "if len(guess)>4:\n",
        "  guess=list(input('輸入數字過多，請輸入四個數字(不會重複):'))\n",
        "  while a!=4:\n",
        "      num+=1\n",
        "      a=b=c=0\n",
        "      guess=list(input('輸入四個數字:'))\n",
        "      for i in guess:\n",
        "          if int(guess[c])==answer[c]:\n",
        "            a+=1\n",
        "          else:\n",
        "            if int(i) in answer:\n",
        "              b+=1\n",
        "          c+=1\n",
        "      output=','.join(guess).replace(',','')\n",
        "      print(f'{output}:{a}A{b}B')\n",
        "  print(f'答對了！總共猜了{num}次')\n",
        "else:\n",
        "  while a!=4:\n",
        "      num+=1\n",
        "      a=b=c=0\n",
        "      guess=list(input('輸入四個數字:'))\n",
        "      for i in guess:\n",
        "          if int(guess[c])==answer[c]:\n",
        "            a+=1\n",
        "          else:\n",
        "            if int(i) in answer:\n",
        "              b+=1\n",
        "          c+=1\n",
        "      output=','.join(guess).replace(',','')\n",
        "      print(f'{output}:{a}A{b}B')\n",
        "  print(f'答對了！總共猜了{num}次')"
      ],
      "metadata": {
        "colab": {
          "base_uri": "https://localhost:8080/"
        },
        "id": "eh23QLATiCpo",
        "outputId": "b90379c4-3ce0-455e-adb7-aa1c101d1732"
      },
      "execution_count": 53,
      "outputs": [
        {
          "output_type": "stream",
          "name": "stdout",
          "text": [
            "[4, 5, 2, 6]\n",
            "輸入四個數字:23456\n",
            "輸入數字過多，請輸入四個數字(不會重複):2346\n",
            "輸入四個數字:2346\n",
            "2346:1A2B\n",
            "輸入四個數字:2468\n",
            "2468:0A3B\n",
            "輸入四個數字:4652\n",
            "4652:1A3B\n",
            "輸入四個數字:4526\n",
            "4526:4A0B\n",
            "答對了！總共猜了4次\n"
          ]
        }
      ]
    }
  ]
}